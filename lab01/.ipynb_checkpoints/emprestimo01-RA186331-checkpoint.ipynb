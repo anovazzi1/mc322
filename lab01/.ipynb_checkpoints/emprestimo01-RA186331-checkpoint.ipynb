{
 "cells": [
  {
   "cell_type": "markdown",
   "metadata": {},
   "source": [
    "# Exercício do Empréstimo\n",
    "\n",
    "Em um financiamento com juros compostos e número de parcelas fixas parte-se dos seguintes parâmetros:\n",
    "* `S` - valor da primeira parcela\n",
    "* `N` - número de parcelas\n",
    "* `J` - percentual de juros mensal\n",
    "\n",
    "A primeira parcela a ser paga do financiamento é sempre igual a `S`. A partir daí é feita uma atualização mensal da parcela, em que cada nova parcela é calculada a partir da parcela do mês anterior, conforme a fórmula:\n",
    "\n",
    "> #### Parcela<sub>mês</sub> = Parcela<sub>mês-1</sub> * (1 + `J` / 100)\n",
    "\n",
    "O financiamento encerra quando as `N` parcelas são pagas.\n",
    "\n",
    "Exemplo:\n",
    "* `S`: 200\n",
    "* `N`: 5\n",
    "* `J`: 1%\n",
    "\n",
    "Parcelas do financiamento:\n",
    "`200`; `202`; `204.02`; `206.06`; `208.12`"
   ]
  },
  {
   "cell_type": "markdown",
   "metadata": {},
   "source": [
    "## Exercício Parte 1 - Escrevendo um Módulo\n",
    "\n",
    "Dado o problema descrito, escreva um programa que calcule as parcelas de um empréstimo para os seguintes valores:\n",
    "* `S`: 200\n",
    "* `N`: 5\n",
    "* `J`: 1%"
   ]
  },
  {
   "cell_type": "code",
   "execution_count": 1,
   "metadata": {},
   "outputs": [
    {
     "name": "stdout",
     "output_type": "stream",
     "text": [
      "200.00\n",
      "202.00\n",
      "204.02\n",
      "206.06\n",
      "208.12\n"
     ]
    }
   ],
   "source": [
    "#include<stdio.h>\n",
    "\n",
    "int main()\n",
    "{\n",
    "    double prim_parcela = 200;\n",
    "    int n = 5;\n",
    "    double j = 0.01;\n",
    "    printf(\"%0.2lf\\n\", prim_parcela);\n",
    "\n",
    "    for (int i = 0;i< n-1;i++)\n",
    "    {\n",
    "        prim_parcela = prim_parcela*(1+j);\n",
    "        printf(\"%0.2lf\\n\",prim_parcela);\n",
    "    }\n",
    "    return 0;\n",
    "}"
   ]
  },
  {
   "cell_type": "markdown",
   "metadata": {},
   "source": [
    "## Exercício Parte 2 - Escrevendo um Módulo\n",
    "\n",
    "Reescreva o código acima de forma que seu programa faça uso de uma função que seja responsável pelo cálculo de uma parcela X do empréstimo. Utilize as boas práticas de modularização que você aprendeu, evitando dependências do módulo com o programa principal."
   ]
  },
  {
   "cell_type": "code",
   "execution_count": null,
   "metadata": {},
   "outputs": [],
   "source": [
    "#include<stdio.h>\n",
    "\n",
    "double calcular_parcela(float parcela, float percentage)\n",
    "{\n",
    "    return parcela*(1+percentage);\n",
    "}\n",
    "\n",
    "int main()\n",
    "{\n",
    "    double prim_parcela = 200;\n",
    "    int n = 5;\n",
    "    double j = 0.01;\n",
    "    printf(\"%0.2lf\\n\", prim_parcela);\n",
    "\n",
    "    for (int i = 0;i< n-1;i++)\n",
    "    {\n",
    "        prim_parcela = calcular_parcela(prim_parcela, j);\n",
    "        printf(\"%0.2lf\\n\",prim_parcela);\n",
    "    }\n",
    "    return 0;\n",
    "}"
   ]
  },
  {
   "cell_type": "markdown",
   "metadata": {},
   "source": [
    "## Exercício Parte 3 - Minimizando os Parâmetros\n",
    "\n",
    "Modifique o módulo para que o cliente (que chama a função) use o mínimo de parâmetros possíveis. Para isso a sua função precisa estar ciente do estado corrente do empréstimo, ou seja, ela precisará saber qual a próxima parcela que ela precisa calcular sem que lhe seja informado, para isso:\n",
    "* evite informar recorrentemente como parâmetros dados sobre as características do empréstimo;\n",
    "* evite usar informações de controle (e.g., parcela corrente) como parâmetro."
   ]
  },
  {
   "cell_type": "code",
   "execution_count": 2,
   "metadata": {},
   "outputs": [
    {
     "name": "stdout",
     "output_type": "stream",
     "text": [
      "200.00\n",
      "202.00\n",
      "204.02\n",
      "206.06\n",
      "208.12\n"
     ]
    }
   ],
   "source": [
    "#include<stdio.h>\n",
    "\n",
    "double prim_parcela = 200;\n",
    "double j = 0.01;\n",
    "\n",
    "double calcular_parcela()\n",
    "{\n",
    "    return prim_parcela*(1+j);\n",
    "}\n",
    "\n",
    "int main()\n",
    "{\n",
    "    int n = 5;\n",
    "    printf(\"%0.2lf\\n\", prim_parcela);\n",
    "\n",
    "    for (int i = 0;i< n-1;i++)\n",
    "    {\n",
    "        prim_parcela = calcular_parcela();\n",
    "        printf(\"%0.2lf\\n\",prim_parcela);\n",
    "    }\n",
    "    return 0;\n",
    "}"
   ]
  },
  {
   "cell_type": "markdown",
   "metadata": {},
   "source": [
    "## Exercício Parte 4 - Minimizando os Parâmetros\n",
    "\n",
    "Partindo da Solução da Parte 2, modifique a forma como você representa o empréstimo, de forma que a função que calcula a próxima parcela receba um único parâmetro."
   ]
  },
  {
   "cell_type": "code",
   "execution_count": 5,
   "metadata": {},
   "outputs": [
    {
     "name": "stdout",
     "output_type": "stream",
     "text": [
      "200.00\n",
      "202.00\n",
      "204.02\n",
      "206.06\n",
      "208.12\n"
     ]
    }
   ],
   "source": [
    "#include<stdio.h>\n",
    "\n",
    "typedef struct parcela\n",
    "{\n",
    "    double valor;\n",
    "    double juros;\n",
    "}parcela;\n",
    "\n",
    "double calcular_parcela(parcela emprestimo)\n",
    "{\n",
    "    return emprestimo.valor*(1+emprestimo.juros);\n",
    "}\n",
    "\n",
    "int main()\n",
    "{\n",
    "    parcela emprestimo;\n",
    "    emprestimo.valor = 200;\n",
    "    emprestimo.juros = 0.01;\n",
    "    int n=5;\n",
    "    printf(\"%0.2lf\\n\", emprestimo.valor);\n",
    "\n",
    "    for (int i = 0;i< n-1;i++)\n",
    "    {\n",
    "        emprestimo.valor = calcular_parcela(emprestimo);\n",
    "        printf(\"%0.2lf\\n\",emprestimo.valor);\n",
    "    }\n",
    "    return 0;\n",
    "}"
   ]
  },
  {
   "cell_type": "markdown",
   "metadata": {},
   "source": [
    "## Exercício Parte 5 - Múltiplos Empréstimos\n",
    "\n",
    "Considere que há múltiplos empréstimos que podem ser controlados em paralelo. O seu programa deve ser capaz de informar as parcelas de mais de um empréstimo, mantendo um controle para cada empréstimo separadamente. Você deve decidir qual das soluções tomará como ponto de partida, se deve modificar o programa principal, a função ou ambos para atender esse requisito da melhor forma possível.\n",
    "\n",
    "Por exemplo, suponha os seguintes dois empréstimos em paralelo:\n",
    "\n",
    "### Empréstimo 1\n",
    "* `S`: 200\n",
    "* `N`: 5\n",
    "* `J`: 1%\n",
    "\n",
    "### Empréstimo 2\n",
    "* `S`: 500\n",
    "* `N`: 7\n",
    "* `J`: 2%\n",
    "\n",
    "A saída esperada é:\n",
    "~~~\n",
    "Emprestimo 1: parcela 1 eh 200.00\n",
    "Emprestimo 2: parcela 1 eh 500.00\n",
    "Emprestimo 1: parcela 2 eh 202.00\n",
    "Emprestimo 2: parcela 2 eh 510.00\n",
    "Emprestimo 1: parcela 3 eh 204.02\n",
    "Emprestimo 2: parcela 3 eh 520.20\n",
    "Emprestimo 1: parcela 4 eh 206.06\n",
    "Emprestimo 2: parcela 4 eh 530.60\n",
    "Emprestimo 1: parcela 5 eh 208.12\n",
    "Emprestimo 2: parcela 5 eh 541.22\n",
    "Emprestimo 2: parcela 6 eh 552.04\n",
    "Emprestimo 2: parcela 7 eh 563.08\n",
    "~~~\n",
    "\n",
    "O exemplo mostra dois empréstimos, mas a estrutura deve ser genérica o suficiente para controlar N empréstimos em paralelo."
   ]
  },
  {
   "cell_type": "code",
   "execution_count": 1,
   "metadata": {},
   "outputs": [
    {
     "name": "stdout",
     "output_type": "stream",
     "text": [
      "Emprestimo 1: parcela 1 eh 200.00\n",
      "Emprestimo 2: parcela 1 eh 500.00\n",
      "Emprestimo 1: parcela 2 eh 202.00\n",
      "Emprestimo 2: parcela 2 eh 510.00\n",
      "Emprestimo 1: parcela 3 eh 204.02\n",
      "Emprestimo 2: parcela 3 eh 520.20\n",
      "Emprestimo 1: parcela 4 eh 206.06\n",
      "Emprestimo 2: parcela 4 eh 530.60\n",
      "Emprestimo 1: parcela 5 eh 208.12\n",
      "Emprestimo 2: parcela 5 eh 541.22\n",
      "Emprestimo 2: parcela 6 eh 552.04\n",
      "Emprestimo 2: parcela 7 eh 563.08\n"
     ]
    }
   ],
   "source": [
    "#include<stdio.h>\n",
    "#define NUM_DIVIDA 2\n",
    "typedef struct parcela\n",
    "{\n",
    "    double valor;\n",
    "    double juros;\n",
    "    int n;\n",
    "    int pagas;\n",
    "}parcela;\n",
    "\n",
    "double calcular_parcela(parcela *emprestimo)\n",
    "{\n",
    "    emprestimo->pagas +=1;\n",
    "    return (emprestimo->valor)*(1+emprestimo->juros);\n",
    "}\n",
    "\n",
    "int maiorParcela( parcela divida[NUM_DIVIDA])\n",
    "{\n",
    "    int maior = 0;\n",
    "    for(int i= 0;i<NUM_DIVIDA; i++)\n",
    "    {\n",
    "        if(divida[i].n >= maior)\n",
    "            maior = divida[i].n;\n",
    "    }\n",
    "    return maior;\n",
    "}\n",
    "void preencher(parcela *divida, float juros, float valor, int n)\n",
    "{\n",
    "    divida->juros = juros;\n",
    "    divida->valor = valor;\n",
    "    divida->n = n;\n",
    "    divida->pagas =0;\n",
    "}\n",
    "int main()\n",
    "{\n",
    "    parcela dividas[NUM_DIVIDA];\n",
    "    preencher(&dividas[0], 0.01, 200, 5);\n",
    "    preencher(&dividas[1],0.02,500,7);\n",
    "    int repeticoes = maiorParcela(dividas);\n",
    "    for(int i =0; i< repeticoes; i++)\n",
    "    {\n",
    "        for(int j =0; j< NUM_DIVIDA;j++)\n",
    "        {\n",
    "            if(dividas[j].n == dividas[j].pagas)\n",
    "                continue;\n",
    "            if(dividas[j].pagas == 0)\n",
    "            {\n",
    "                printf(\"Emprestimo %d: parcela 1 eh %0.2lf\\n\",j+1, dividas[j].valor);\n",
    "                dividas[j].pagas+=1;\n",
    "            }\n",
    "            else\n",
    "            {\n",
    "                dividas[j].valor = calcular_parcela(&dividas[j]);\n",
    "                printf(\"Emprestimo %d: parcela %d eh %0.2lf\\n\", j+1,i+1,dividas[j].valor);\n",
    "            }\n",
    "        }\n",
    "    }\n",
    "    return 0;\n",
    "}"
   ]
  },
  {
   "cell_type": "code",
   "execution_count": null,
   "metadata": {},
   "outputs": [],
   "source": []
  }
 ],
 "metadata": {
  "kernelspec": {
   "display_name": "C",
   "language": "c",
   "name": "c"
  },
  "language_info": {
   "file_extension": ".c",
   "mimetype": "text/plain",
   "name": "c"
  }
 },
 "nbformat": 4,
 "nbformat_minor": 4
}
